{
 "cells": [
  {
   "cell_type": "markdown",
   "metadata": {},
   "source": [
    "# Elecciones presidenciales en Twitter\n",
    "\n",
    "Actualmente la gran parte del discurso publico se lleva a cabo en redes sociales. Por un lado esto permite a cualquier persona informarse y expresarse de manera instantánea y directa con el resto del mundo. Por el otro, permite hacer uso de tecnologías para amplificar mensajes o ideas artificialmente. \n",
    "\n",
    "El objetivo de este estudio es cuantificar la presencia de Bots, o cuentas automatizadas, en el discurso publico en redes sociales en el contexto de las elecciones presidenciales en Chile del año 2021.\n",
    "\n",
    "La metodología consiste en descargar todos los mensajes que mencionen a uno de los candidatos presidenciales y analizar si los usuarios que generaron el mensaje son personas reales o cuentas automatizadas, además de a qué candidato apoyan."
   ]
  },
  {
   "cell_type": "markdown",
   "metadata": {},
   "source": [
    "## Data\n",
    "- tweets.json: Contiene los tweets originales y su informacion\n",
    "- users.json: Contiene el resultado del analysis de los usuarios\n",
    "\n",
    "Los archivos se pueden descargar [aquí](https://drive.google.com/file/d/1gg0XD5m8D2hIRbBSedb-r53K_LuzROqH/view?usp=sharing)"
   ]
  },
  {
   "cell_type": "code",
   "execution_count": 121,
   "metadata": {},
   "outputs": [
    {
     "name": "stdout",
     "output_type": "stream",
     "text": [
      "Primer Tweet del estudio: 2021-11-26 06:59:10\n",
      "Último Tweet del estudio: 2021-12-03 11:49:29\n",
      "Duración: 7 days 04:50:19\n",
      "Tweets: 125732\n",
      "Usuarios: 30572\n"
     ]
    }
   ],
   "source": [
    "import numpy as np\n",
    "import pandas as pd\n",
    "import matplotlib.pyplot as plt\n",
    "import matplotlib.style as style\n",
    "style.use('fivethirtyeight')\n",
    "%matplotlib inline\n",
    "import seaborn as sns\n",
    "\n",
    "\n",
    "tweets_df = pd.read_json(\"data/clean/tweets.json\")\n",
    "users_df = pd.read_json(\"data/clean/users.json\").drop(\"english\", axis=1)\n",
    "\n",
    "print(\"Primer Tweet del estudio:\", tweets_df.created_at.min())\n",
    "print(\"Último Tweet del estudio:\", tweets_df.created_at.max())\n",
    "print(\"Duración:\", pd.to_timedelta(tweets_df.created_at.max() - tweets_df.created_at.min(), unit='D'))\n",
    "print(\"Tweets:\", len(tweets_df))\n",
    "print(\"Usuarios:\", len(tweets_df.author_id.unique()))"
   ]
  },
  {
   "cell_type": "markdown",
   "metadata": {},
   "source": [
    "El estudio se realizo exclusivamente en Twitter por la facilidad que otorga para entregar datos. El periodo consiste de la semana entre el 26.11.2021 y el 03.12.2021. El criterios de búsqueda es tweets que mencionen las palabras **Kast** o **Boric** y que el texto del mensaje esté en español.\n",
    "\n",
    "Esto se traduce en **2.341.610** tweets generados por **172.135** usuarios."
   ]
  },
  {
   "cell_type": "code",
   "execution_count": 122,
   "metadata": {},
   "outputs": [
    {
     "data": {
      "text/plain": [
       "<AxesSubplot:xlabel='created_at,created_at'>"
      ]
     },
     "execution_count": 122,
     "metadata": {},
     "output_type": "execute_result"
    },
    {
     "data": {
      "image/png": "[encoded data removed]",
      "text/plain": [
       "<Figure size 432x288 with 1 Axes>"
      ]
     },
     "metadata": {
      "needs_background": "light"
     },
     "output_type": "display_data"
    }
   ],
   "source": [
    "tweets_df.groupby([tweets_df[\"created_at\"].dt.month, tweets_df[\"created_at\"].dt.day]).id.count().plot(kind=\"bar\")"
   ]
  },
  {
   "cell_type": "markdown",
   "metadata": {},
   "source": [
    "## Hashtag mas populares\n",
    "\n",
    "Primero se ordenaron los Tweets según hashtags.  Los hashtags tiene como fin clasificar un mensaje en una categoría designada por el usuario que lo creó. Distinguir si un mensaje apoya a uno u otro candidato no es una tarea fácil, por lo que decidimos usar los hashtags como proxy para determinar a quién apoya cada tweet.\n",
    "\n",
    "Los hashtags mas populares son:"
   ]
  },
  {
   "cell_type": "code",
   "execution_count": 123,
   "metadata": {},
   "outputs": [],
   "source": [
    "def top_hashtags(df):\n",
    "    hashtags_dict = {}\n",
    "    for index, values in df.entities.items():\n",
    "        if values and ('hashtags' in values):\n",
    "            hashtags = values['hashtags']       \n",
    "            for hashtag in hashtags:\n",
    "                # check if hashtags is in the dictionary\n",
    "                tag = \"#\" + hashtag['tag']\n",
    "                if (\"boric\" in tag.lower()) or (\"kast\" in tag.lower()):\n",
    "                    if tag in hashtags_dict:\n",
    "                        hashtags_dict[tag] += 1\n",
    "                    else:\n",
    "                        hashtags_dict[tag] = 1\n",
    "    hashtags_df = pd.DataFrame.from_dict(hashtags_dict, orient='index', columns=['count'])\n",
    "    return hashtags_df.sort_values(by='count', ascending=False)"
   ]
  },
  {
   "cell_type": "code",
   "execution_count": 124,
   "metadata": {},
   "outputs": [
    {
     "data": {
      "text/html": [
       "<div>\n",
       "<style scoped>\n",
       "    .dataframe tbody tr th:only-of-type {\n",
       "        vertical-align: middle;\n",
       "    }\n",
       "\n",
       "    .dataframe tbody tr th {\n",
       "        vertical-align: top;\n",
       "    }\n",
       "\n",
       "    .dataframe thead th {\n",
       "        text-align: right;\n",
       "    }\n",
       "</style>\n",
       "<table border=\"1\" class=\"dataframe\">\n",
       "  <thead>\n",
       "    <tr style=\"text-align: right;\">\n",
       "      <th></th>\n",
       "      <th>count</th>\n",
       "    </tr>\n",
       "  </thead>\n",
       "  <tbody>\n",
       "    <tr>\n",
       "      <th>#BoricPresidente</th>\n",
       "      <td>35257</td>\n",
       "    </tr>\n",
       "    <tr>\n",
       "      <th>#MujeresPorKast</th>\n",
       "      <td>21976</td>\n",
       "    </tr>\n",
       "    <tr>\n",
       "      <th>#TodoChileVotaKast</th>\n",
       "      <td>19090</td>\n",
       "    </tr>\n",
       "    <tr>\n",
       "      <th>#KastPresidente2022</th>\n",
       "      <td>17759</td>\n",
       "    </tr>\n",
       "    <tr>\n",
       "      <th>#TodosKast</th>\n",
       "      <td>12656</td>\n",
       "    </tr>\n",
       "    <tr>\n",
       "      <th>#BoricPresidente2022</th>\n",
       "      <td>7749</td>\n",
       "    </tr>\n",
       "    <tr>\n",
       "      <th>#Boric</th>\n",
       "      <td>7551</td>\n",
       "    </tr>\n",
       "    <tr>\n",
       "      <th>#BoricNoSeAtreveDebatir</th>\n",
       "      <td>7065</td>\n",
       "    </tr>\n",
       "    <tr>\n",
       "      <th>#BoricNoSeLaPuede</th>\n",
       "      <td>5610</td>\n",
       "    </tr>\n",
       "    <tr>\n",
       "      <th>#Kast</th>\n",
       "      <td>5510</td>\n",
       "    </tr>\n",
       "    <tr>\n",
       "      <th>#BoricMiente</th>\n",
       "      <td>4733</td>\n",
       "    </tr>\n",
       "    <tr>\n",
       "      <th>#KastPresidente</th>\n",
       "      <td>4725</td>\n",
       "    </tr>\n",
       "    <tr>\n",
       "      <th>#BoricMienteYSeNota</th>\n",
       "      <td>4455</td>\n",
       "    </tr>\n",
       "    <tr>\n",
       "      <th>#BoricNosUne</th>\n",
       "      <td>2290</td>\n",
       "    </tr>\n",
       "    <tr>\n",
       "      <th>#KastEsperanzaParaChile</th>\n",
       "      <td>2234</td>\n",
       "    </tr>\n",
       "    <tr>\n",
       "      <th>#ChileVotaPorBoric</th>\n",
       "      <td>1579</td>\n",
       "    </tr>\n",
       "    <tr>\n",
       "      <th>#kast</th>\n",
       "      <td>1512</td>\n",
       "    </tr>\n",
       "    <tr>\n",
       "      <th>#DoctorasPorKast</th>\n",
       "      <td>1457</td>\n",
       "    </tr>\n",
       "    <tr>\n",
       "      <th>#KastLeDaEsperanzaAChile</th>\n",
       "      <td>1450</td>\n",
       "    </tr>\n",
       "    <tr>\n",
       "      <th>#TodosConBoric</th>\n",
       "      <td>1331</td>\n",
       "    </tr>\n",
       "  </tbody>\n",
       "</table>\n",
       "</div>"
      ],
      "text/plain": [
       "                          count\n",
       "#BoricPresidente          35257\n",
       "#MujeresPorKast           21976\n",
       "#TodoChileVotaKast        19090\n",
       "#KastPresidente2022       17759\n",
       "#TodosKast                12656\n",
       "#BoricPresidente2022       7749\n",
       "#Boric                     7551\n",
       "#BoricNoSeAtreveDebatir    7065\n",
       "#BoricNoSeLaPuede          5610\n",
       "#Kast                      5510\n",
       "#BoricMiente               4733\n",
       "#KastPresidente            4725\n",
       "#BoricMienteYSeNota        4455\n",
       "#BoricNosUne               2290\n",
       "#KastEsperanzaParaChile    2234\n",
       "#ChileVotaPorBoric         1579\n",
       "#kast                      1512\n",
       "#DoctorasPorKast           1457\n",
       "#KastLeDaEsperanzaAChile   1450\n",
       "#TodosConBoric             1331"
      ]
     },
     "execution_count": 124,
     "metadata": {},
     "output_type": "execute_result"
    }
   ],
   "source": [
    "top_hashtags_df = top_hashtags(tweets_df)\n",
    "top_hashtags_df.head(20)"
   ]
  },
  {
   "cell_type": "markdown",
   "metadata": {},
   "source": [
    "Para nuestro análisis excluiremos los hashtags #Kast, #Boric , #kast y #boric. Esto dado que tanto un comentario positivo como negativo al respecto de los candidatos puede incluirlos.\n",
    "\n",
    "La lista de los 10 hashtags mas populares excluyendo los hastags mencionados se ve asi:"
   ]
  },
  {
   "cell_type": "code",
   "execution_count": 125,
   "metadata": {},
   "outputs": [
    {
     "data": {
      "text/html": [
       "<div>\n",
       "<style scoped>\n",
       "    .dataframe tbody tr th:only-of-type {\n",
       "        vertical-align: middle;\n",
       "    }\n",
       "\n",
       "    .dataframe tbody tr th {\n",
       "        vertical-align: top;\n",
       "    }\n",
       "\n",
       "    .dataframe thead th {\n",
       "        text-align: right;\n",
       "    }\n",
       "</style>\n",
       "<table border=\"1\" class=\"dataframe\">\n",
       "  <thead>\n",
       "    <tr style=\"text-align: right;\">\n",
       "      <th></th>\n",
       "      <th>count</th>\n",
       "    </tr>\n",
       "  </thead>\n",
       "  <tbody>\n",
       "    <tr>\n",
       "      <th>#BoricPresidente</th>\n",
       "      <td>35257</td>\n",
       "    </tr>\n",
       "    <tr>\n",
       "      <th>#MujeresPorKast</th>\n",
       "      <td>21976</td>\n",
       "    </tr>\n",
       "    <tr>\n",
       "      <th>#TodoChileVotaKast</th>\n",
       "      <td>19090</td>\n",
       "    </tr>\n",
       "    <tr>\n",
       "      <th>#KastPresidente2022</th>\n",
       "      <td>17759</td>\n",
       "    </tr>\n",
       "    <tr>\n",
       "      <th>#TodosKast</th>\n",
       "      <td>12656</td>\n",
       "    </tr>\n",
       "    <tr>\n",
       "      <th>#BoricPresidente2022</th>\n",
       "      <td>7749</td>\n",
       "    </tr>\n",
       "    <tr>\n",
       "      <th>#BoricNoSeAtreveDebatir</th>\n",
       "      <td>7065</td>\n",
       "    </tr>\n",
       "    <tr>\n",
       "      <th>#BoricNoSeLaPuede</th>\n",
       "      <td>5610</td>\n",
       "    </tr>\n",
       "    <tr>\n",
       "      <th>#BoricMiente</th>\n",
       "      <td>4733</td>\n",
       "    </tr>\n",
       "    <tr>\n",
       "      <th>#KastPresidente</th>\n",
       "      <td>4725</td>\n",
       "    </tr>\n",
       "  </tbody>\n",
       "</table>\n",
       "</div>"
      ],
      "text/plain": [
       "                         count\n",
       "#BoricPresidente         35257\n",
       "#MujeresPorKast          21976\n",
       "#TodoChileVotaKast       19090\n",
       "#KastPresidente2022      17759\n",
       "#TodosKast               12656\n",
       "#BoricPresidente2022      7749\n",
       "#BoricNoSeAtreveDebatir   7065\n",
       "#BoricNoSeLaPuede         5610\n",
       "#BoricMiente              4733\n",
       "#KastPresidente           4725"
      ]
     },
     "execution_count": 125,
     "metadata": {},
     "output_type": "execute_result"
    }
   ],
   "source": [
    "hashtags_list = ['#BoricPresidente',\n",
    " '#MujeresPorKast',\n",
    " '#TodoChileVotaKast',\n",
    " '#KastPresidente2022',\n",
    " '#TodosKast',\n",
    " '#BoricPresidente2022',\n",
    " '#BoricNoSeAtreveDebatir',\n",
    " '#BoricNoSeLaPuede',\n",
    " '#BoricMiente',\n",
    " '#KastPresidente']\n",
    "\n",
    "top_hashtags_df = top_hashtags_df[top_hashtags_df.index.isin(hashtags_list)]\n",
    "top_hashtags_df"
   ]
  },
  {
   "cell_type": "code",
   "execution_count": 151,
   "metadata": {},
   "outputs": [
    {
     "data": {
      "image/png": "[encoded data removed]",
      "text/plain": [
       "<Figure size 432x288 with 1 Axes>"
      ]
     },
     "metadata": {
      "needs_background": "light"
     },
     "output_type": "display_data"
    }
   ],
   "source": [
    "ax = sns.barplot(y=top_hashtags_df.index, x=\"count\", data = top_hashtags_df, palette=\"rainbow\", orient= \"h\")"
   ]
  },
  {
   "cell_type": "markdown",
   "metadata": {},
   "source": [
    "A primera vista podemos observar que hay hashtags que apoyan directamente a un candidato y otros que se manifiestan contrarios a un candidato. "
   ]
  },
  {
   "cell_type": "code",
   "execution_count": 10,
   "metadata": {},
   "outputs": [],
   "source": [
    "hashtags_support_dict = {\n",
    " \"#BoricPresidente\": \"Boric\",\n",
    " \"#MujeresPorKast\": \"Kast\",\n",
    " \"#TodoChileVotaKast\": \"Kast\",\n",
    " \"#KastPresidente2022\": \"Kast\",\n",
    " \"#TodosKast\": \"Kast\",\n",
    " \"#BoricPresidente2022\": \"Boric\",\n",
    " \"#BoricNoSeAtreveDebatir\": \"Kast\",\n",
    " \"#BoricNoSeLaPuede\": \"Kast\",\n",
    " \"#BoricMiente\": \"Kast\",\n",
    " \"#KastPresidente\": \"Kast\"\n",
    " }"
   ]
  },
  {
   "cell_type": "markdown",
   "metadata": {},
   "source": [
    "**De aqui en adelante solo trabajaremos con los tweets pertenecientos a los hashtags anteriormente mencionados**"
   ]
  },
  {
   "cell_type": "code",
   "execution_count": 11,
   "metadata": {},
   "outputs": [],
   "source": [
    "# asignar cuentas a candidatos\n",
    "def candidate_support(text):\n",
    "    for key in hashtags_support_dict:\n",
    "        if key in text:\n",
    "            support =  hashtags_support_dict[key]\n",
    "    if \"support\" not in locals():\n",
    "        support = np.nan\n",
    "    return support "
   ]
  },
  {
   "cell_type": "code",
   "execution_count": 12,
   "metadata": {},
   "outputs": [
    {
     "name": "stdout",
     "output_type": "stream",
     "text": [
      "Total de usuarios de los top 10 hashtags: 30572\n"
     ]
    }
   ],
   "source": [
    "tweets_df[\"candidate_support\"] = tweets_df.text.apply(lambda x: candidate_support(x))\n",
    "tweets_df = tweets_df[tweets_df.candidate_support.notna()]\n",
    "total_hashtags_users = len(tweets_df.author_id.unique())\n",
    "\n",
    "print(\"Total de usuarios de los top 10 hashtags:\", total_hashtags_users)"
   ]
  },
  {
   "cell_type": "markdown",
   "metadata": {},
   "source": [
    "## Cuentas eliminadas"
   ]
  },
  {
   "cell_type": "markdown",
   "metadata": {},
   "source": [
    "Antes de ver el resultado el análisis es importante destacar un hallazgo curioso: el **26,26%** del total de las cuentas analizadas en el muestreo se encuentran eliminadas. Una cuenta puede suspenderse por tres razones:\n",
    "\n",
    "- El usuario voluntariamente cierra su cuenta\n",
    "- La cuenta se encuentra inactiva por un largo periodo de tiempo\n",
    "- Twitter suspende la cuenta por [violación al código de conducta](https://help.twitter.com/en/rules-and-policies/twitter-rules)"
   ]
  },
  {
   "cell_type": "code",
   "execution_count": 13,
   "metadata": {},
   "outputs": [
    {
     "name": "stdout",
     "output_type": "stream",
     "text": [
      "Total de usuarios: 30572\n",
      "Usuarios activos: 22544\n",
      "Usuarios eliminados: 8028\n",
      "Proporción de usuarios borrados: 26.26%\n"
     ]
    }
   ],
   "source": [
    "users_df = users_df[users_df.id_str.isin(tweets_df.author_id.unique())]\n",
    "tweets_df = tweets_df.merge(users_df, how=\"left\", left_on=\"author_id\", right_on=\"id_str\")\n",
    "\n",
    "usuarios_activos = len(users_df[users_df.status == \"active\"])\n",
    "usuarios_eliminados = len(users_df[users_df.status == \"deleted\"])\n",
    "ratio_borrados = usuarios_eliminados / (usuarios_eliminados + usuarios_activos)\n",
    "\n",
    "print(\"Total de usuarios:\", total_hashtags_users)\n",
    "print(\"Usuarios activos:\", usuarios_activos)\n",
    "print(\"Usuarios eliminados:\", usuarios_eliminados)\n",
    "print(f\"Proporción de usuarios borrados: {(ratio_borrados * 100):.2f}%\")"
   ]
  },
  {
   "cell_type": "code",
   "execution_count": 164,
   "metadata": {},
   "outputs": [
    {
     "data": {
      "image/png": "[encoded data removed]",
      "text/plain": [
       "<Figure size 432x288 with 1 Axes>"
      ]
     },
     "metadata": {
      "needs_background": "light"
     },
     "output_type": "display_data"
    }
   ],
   "source": [
    "status_series = users_df.groupby(users_df.status).id_str.count().sort_values()\n",
    "ax = sns.barplot(y=status_series, x=status_series.index, palette=\"rainbow\")"
   ]
  },
  {
   "cell_type": "markdown",
   "metadata": {},
   "source": [
    "Con la información obtenida no podemos determinar la causa por la cual la cuenta ha sido desactivada. "
   ]
  },
  {
   "cell_type": "code",
   "execution_count": 32,
   "metadata": {},
   "outputs": [
    {
     "name": "stdout",
     "output_type": "stream",
     "text": [
      "Usuarios que apoyan a Kast: 16722\n",
      "Usuarios que apoyan a Kast activos: 11705 equivalente al 70.00% del total de usuarios\n",
      "Usuarios que apoyan a Kast eliminados: 5017 equivalente al 30.00% del total de usuarios\n"
     ]
    }
   ],
   "source": [
    "kast_top_users = len(tweets_df[tweets_df.candidate_support == \"Kast\"].author_id.unique())\n",
    "print(\"Usuarios que apoyan a Kast:\", kast_top_users)\n",
    "\n",
    "kast_active_users = len(tweets_df[(tweets_df.candidate_support == \"Kast\") & (tweets_df.status == \"active\")].author_id.unique())\n",
    "print(f\"Usuarios que apoyan a Kast activos: {kast_active_users} equivalente al {(kast_active_users / kast_top_users)*100:.2f}% del total de usuarios\")\n",
    "\n",
    "kast_deleted_accounts = len(tweets_df[(tweets_df.candidate_support == \"Kast\") & (tweets_df.status == \"deleted\")].author_id.unique())\n",
    "print(f\"Usuarios que apoyan a Kast eliminados: {kast_deleted_accounts} equivalente al {(kast_deleted_accounts / kast_top_users) * 100:.2f}% del total de usuarios\")"
   ]
  },
  {
   "cell_type": "code",
   "execution_count": 165,
   "metadata": {},
   "outputs": [
    {
     "data": {
      "image/png": "[encoded data removed]",
      "text/plain": [
       "<Figure size 432x288 with 1 Axes>"
      ]
     },
     "metadata": {
      "needs_background": "light"
     },
     "output_type": "display_data"
    }
   ],
   "source": [
    "kast_users_series = tweets_df[tweets_df.candidate_support == \"Kast\"].groupby(tweets_df.status).id_str.count().sort_values()\n",
    "ax = sns.barplot(y=kast_users_series, x=kast_users_series.index, palette=\"rainbow\")"
   ]
  },
  {
   "cell_type": "code",
   "execution_count": 34,
   "metadata": {},
   "outputs": [
    {
     "name": "stdout",
     "output_type": "stream",
     "text": [
      "Usuarios que apoyan a Boric: 15611\n",
      "Usuarios que apoyan a Boric activos: 12015 equivalente al 76.96% del total de usuarios\n",
      "Usuarios que apoyan a Boric eliminados: 3596 equivalente al 23.04% del total de usuarios\n"
     ]
    }
   ],
   "source": [
    "boric_top_users = len(tweets_df[tweets_df.candidate_support == \"Boric\"].author_id.unique())\n",
    "print(\"Usuarios que apoyan a Boric:\", boric_top_users)\n",
    "\n",
    "boric_active_users = len(tweets_df[(tweets_df.candidate_support == \"Boric\") & (tweets_df.status == \"active\")].author_id.unique())\n",
    "print(f\"Usuarios que apoyan a Boric activos: {boric_active_users} equivalente al {(boric_active_users / boric_top_users)*100:.2f}% del total de usuarios\")\n",
    "\n",
    "boric_deleted_accounts = len(tweets_df[(tweets_df.candidate_support == \"Boric\") & (tweets_df.status == \"deleted\")].author_id.unique())\n",
    "print(f\"Usuarios que apoyan a Boric eliminados: {boric_deleted_accounts} equivalente al {(boric_deleted_accounts / boric_top_users) * 100:.2f}% del total de usuarios\")"
   ]
  },
  {
   "cell_type": "code",
   "execution_count": 166,
   "metadata": {},
   "outputs": [
    {
     "data": {
      "image/png": "[encoded data removed]",
      "text/plain": [
       "<Figure size 432x288 with 1 Axes>"
      ]
     },
     "metadata": {
      "needs_background": "light"
     },
     "output_type": "display_data"
    }
   ],
   "source": [
    "boric_users_series = tweets_df[tweets_df.candidate_support == \"Boric\"].groupby(tweets_df.status).id_str.count().sort_values()\n",
    "ax = sns.barplot(y=boric_users_series, x=boric_users_series.index, palette=\"rainbow\")"
   ]
  },
  {
   "cell_type": "markdown",
   "metadata": {},
   "source": [
    "Las cuentas eliminadas que apoyan a Kast constituyen el 30\n",
    "% del total. En el caso de Boric, un 23.04% de las cuentas fueron eliminadas. Una hipótesis es que estas cuentas han sido cerradas por usar leguaje extremadamente violento, lo cual ocurriría en el caso de ambas candidaturas."
   ]
  },
  {
   "cell_type": "markdown",
   "metadata": {},
   "source": [
    "## Bots\n",
    "\n",
    "Nuestro objetivo principal es identificar la magnitud de la presencia de Bots en el discurso publico referente al proceso eleccionario. Para clasificar una cuenta como Bot usamos un modelo llamado [Botometer](https://botometer.osome.iu.edu/) desarrollado por el [Observatory on Social Media](https://osome.iu.edu/) de la Indiana University. Elegimos ese modelo por su extensa [documentación](https://arxiv.org/abs/1602.00975) y validación pública.\n",
    "\n",
    "El modelo toma una cuenta de usuario de Twitter y analiza su actividad histórica para determinar qué tan probable es que esa cuenta sea un Bot. Cuando el modelo le otorga una probabilidad a una cuenta de ser Bot mayor al 50% nosotros lo clasificamos como tal."
   ]
  },
  {
   "cell_type": "code",
   "execution_count": 35,
   "metadata": {},
   "outputs": [
    {
     "name": "stdout",
     "output_type": "stream",
     "text": [
      "Bots que apoyan a Kast: 2762 equivalente al 23.60% de los usuarios activos\n",
      "Bots que apoyan a Boric: 945 equivalente al 7.87% de los usuarios activos\n"
     ]
    }
   ],
   "source": [
    "kast_bot_accounts = len(tweets_df[(tweets_df.candidate_support == \"Kast\") & (tweets_df.universal > 0.5)].author_id.unique())\n",
    "print(f\"Bots que apoyan a Kast: {kast_bot_accounts} equivalente al {(kast_bot_accounts / kast_active_users) * 100:.2f}% de los usuarios activos\")\n",
    "boric_bot_accounts = len(tweets_df[(tweets_df.candidate_support == \"Boric\") & (tweets_df.universal > 0.5)].author_id.unique())\n",
    "print(f\"Bots que apoyan a Boric: {boric_bot_accounts} equivalente al {(boric_bot_accounts / boric_active_users) * 100:.2f}% de los usuarios activos\")"
   ]
  },
  {
   "cell_type": "code",
   "execution_count": 167,
   "metadata": {},
   "outputs": [
    {
     "data": {
      "image/png": "[encoded data removed]",
      "text/plain": [
       "<Figure size 432x288 with 1 Axes>"
      ]
     },
     "metadata": {
      "needs_background": "light"
     },
     "output_type": "display_data"
    }
   ],
   "source": [
    "fig = plt.figure()\n",
    "ax = fig.add_axes([0,0,1,1])\n",
    "candidates = [\"Kast\", \"Boric\"]\n",
    "bots = [kast_bot_accounts, boric_bot_accounts]\n",
    "ax.bar(candidates,bots)\n",
    "plt.show()"
   ]
  },
  {
   "cell_type": "markdown",
   "metadata": {},
   "source": [
    "## Bots por hashtag"
   ]
  },
  {
   "cell_type": "code",
   "execution_count": 13,
   "metadata": {},
   "outputs": [
    {
     "data": {
      "text/html": [
       "<div>\n",
       "<style scoped>\n",
       "    .dataframe tbody tr th:only-of-type {\n",
       "        vertical-align: middle;\n",
       "    }\n",
       "\n",
       "    .dataframe tbody tr th {\n",
       "        vertical-align: top;\n",
       "    }\n",
       "\n",
       "    .dataframe thead th {\n",
       "        text-align: right;\n",
       "    }\n",
       "</style>\n",
       "<table border=\"1\" class=\"dataframe\">\n",
       "  <thead>\n",
       "    <tr style=\"text-align: right;\">\n",
       "      <th></th>\n",
       "      <th>hashtag</th>\n",
       "      <th>active</th>\n",
       "      <th>deleted</th>\n",
       "      <th>bots</th>\n",
       "      <th>support</th>\n",
       "    </tr>\n",
       "  </thead>\n",
       "  <tbody>\n",
       "    <tr>\n",
       "      <th>0</th>\n",
       "      <td>#BoricPresidente</td>\n",
       "      <td>12731</td>\n",
       "      <td>3896</td>\n",
       "      <td>1152</td>\n",
       "      <td>Boric</td>\n",
       "    </tr>\n",
       "    <tr>\n",
       "      <th>1</th>\n",
       "      <td>#MujeresPorKast</td>\n",
       "      <td>4488</td>\n",
       "      <td>2040</td>\n",
       "      <td>1494</td>\n",
       "      <td>Kast</td>\n",
       "    </tr>\n",
       "    <tr>\n",
       "      <th>2</th>\n",
       "      <td>#TodoChileVotaKast</td>\n",
       "      <td>4497</td>\n",
       "      <td>2060</td>\n",
       "      <td>1549</td>\n",
       "      <td>Kast</td>\n",
       "    </tr>\n",
       "    <tr>\n",
       "      <th>3</th>\n",
       "      <td>#KastPresidente2022</td>\n",
       "      <td>4722</td>\n",
       "      <td>2102</td>\n",
       "      <td>1569</td>\n",
       "      <td>Kast</td>\n",
       "    </tr>\n",
       "    <tr>\n",
       "      <th>4</th>\n",
       "      <td>#TodosKast</td>\n",
       "      <td>3823</td>\n",
       "      <td>1760</td>\n",
       "      <td>1393</td>\n",
       "      <td>Kast</td>\n",
       "    </tr>\n",
       "    <tr>\n",
       "      <th>5</th>\n",
       "      <td>#BoricPresidente2022</td>\n",
       "      <td>3016</td>\n",
       "      <td>980</td>\n",
       "      <td>192</td>\n",
       "      <td>Boric</td>\n",
       "    </tr>\n",
       "    <tr>\n",
       "      <th>6</th>\n",
       "      <td>#BoricNoSeAtreveDebatir</td>\n",
       "      <td>2342</td>\n",
       "      <td>1078</td>\n",
       "      <td>834</td>\n",
       "      <td>Kast</td>\n",
       "    </tr>\n",
       "    <tr>\n",
       "      <th>7</th>\n",
       "      <td>#BoricNoSeLaPuede</td>\n",
       "      <td>2567</td>\n",
       "      <td>1145</td>\n",
       "      <td>988</td>\n",
       "      <td>Kast</td>\n",
       "    </tr>\n",
       "    <tr>\n",
       "      <th>8</th>\n",
       "      <td>#BoricMiente</td>\n",
       "      <td>3515</td>\n",
       "      <td>1558</td>\n",
       "      <td>1105</td>\n",
       "      <td>Kast</td>\n",
       "    </tr>\n",
       "    <tr>\n",
       "      <th>9</th>\n",
       "      <td>#KastPresidente</td>\n",
       "      <td>5512</td>\n",
       "      <td>2507</td>\n",
       "      <td>1746</td>\n",
       "      <td>Kast</td>\n",
       "    </tr>\n",
       "  </tbody>\n",
       "</table>\n",
       "</div>"
      ],
      "text/plain": [
       "                   hashtag active deleted  bots support\n",
       "0         #BoricPresidente  12731    3896  1152   Boric\n",
       "1          #MujeresPorKast   4488    2040  1494    Kast\n",
       "2       #TodoChileVotaKast   4497    2060  1549    Kast\n",
       "3      #KastPresidente2022   4722    2102  1569    Kast\n",
       "4               #TodosKast   3823    1760  1393    Kast\n",
       "5     #BoricPresidente2022   3016     980   192   Boric\n",
       "6  #BoricNoSeAtreveDebatir   2342    1078   834    Kast\n",
       "7        #BoricNoSeLaPuede   2567    1145   988    Kast\n",
       "8             #BoricMiente   3515    1558  1105    Kast\n",
       "9          #KastPresidente   5512    2507  1746    Kast"
      ]
     },
     "execution_count": 13,
     "metadata": {},
     "output_type": "execute_result"
    }
   ],
   "source": [
    "# users per hashtag\n",
    "hashtags_df = pd.DataFrame(columns=[\"hashtag\", \"active\", \"deleted\", \"bots\"])\n",
    "\n",
    "for hashtag in hashtags_list:\n",
    "    active_users = 0\n",
    "    deleted_users = 0\n",
    "    bot_users = 0\n",
    "    hashtag_df = tweets_df[tweets_df.text.str.contains(hashtag)]\n",
    "    hashtag_users_list = list(hashtag_df.author_id.unique())\n",
    "    for user in hashtag_users_list:\n",
    "        users_info_df = users_df[users_df.id_str == user]\n",
    "        if users_info_df.status.values[0] == \"active\":\n",
    "            active_users += 1\n",
    "        if users_info_df.status.values[0] == \"deleted\":\n",
    "            deleted_users += 1\n",
    "        if (users_info_df.universal > 0.5).values[0]:\n",
    "            bot_users += 1\n",
    "    hashtags_df = hashtags_df.append({\n",
    "        \"hashtag\": hashtag,\n",
    "        \"active\": active_users,\n",
    "        \"deleted\": deleted_users,\n",
    "        \"bots\": bot_users\n",
    "    }, ignore_index=True)\n",
    "\n",
    "hashtags_df[\"support\"] = hashtags_df.hashtag.apply(lambda x: hashtags_support_dict[x])\n",
    "hashtags_df"
   ]
  },
  {
   "cell_type": "code",
   "execution_count": 168,
   "metadata": {},
   "outputs": [],
   "source": [
    "def hashtag_stats(hashtag):\n",
    "    hashtag_df = tweets_df[tweets_df.text.str.contains(hashtag)]\n",
    "    tweets_count = len(hashtag_df)\n",
    "    users_count = len(hashtag_df.author_id.unique())\n",
    "    active_users_count = len(hashtag_df[hashtag_df.status == \"active\"].author_id.unique())\n",
    "    deleted_users_count = len(hashtag_df[hashtag_df.status == \"deleted\"].author_id.unique())\n",
    "    bot_users_count = len(hashtag_df[hashtag_df.universal > 0.5].author_id.unique())\n",
    "\n",
    "    active_users_ratio = active_users_count / users_count\n",
    "    deleted_users_ratio = deleted_users_count / users_count\n",
    "    bot_users_ratio = bot_users_count / active_users_count\n",
    "\n",
    "    print(\"Hashtag:\", hashtag)\n",
    "    print(\"Tweets:\", tweets_count)\n",
    "    print(\"Número de usuarios:\", users_count)\n",
    "    print(\"Usuarios activos:\", active_users_count)\n",
    "    print(\"Usuarios eliminados:\", deleted_users_count)\n",
    "    print(\"Bots:\", bot_users_count)\n",
    "    print(f\"Porcentaje de usuarios activos: {(active_users_ratio * 100):.2f}%\")\n",
    "    print(f\"Porcentaje de usuarios eliminados: {(deleted_users_ratio * 100):.2f}%\")\n",
    "    print(f\"Porcentaje de Bots: {(bot_users_ratio * 100):.2f}%\")\n",
    "\n",
    "    fig = plt.figure()\n",
    "    ax = fig.add_axes([0,0,1,1])\n",
    "    ax.set_title = hashtag\n",
    "    ax.set_ylabel = \"Usuarios\"\n",
    "    status = [\"Bots\", \"Eliminados\", \"Activos\", \"Total\"]\n",
    "    count = [bot_users_count, deleted_users_count, active_users_count, users_count]\n",
    "    # count = [users_count, active_users_count, deleted_users_count, bot_users_count]\n",
    "    ax.barh(status, count)\n",
    "    plt.show()\n",
    "    "
   ]
  },
  {
   "cell_type": "code",
   "execution_count": 169,
   "metadata": {},
   "outputs": [
    {
     "name": "stdout",
     "output_type": "stream",
     "text": [
      "Hashtag: #BoricPresidente\n",
      "Tweets: 39532\n",
      "Número de usuarios: 16627\n",
      "Usuarios activos: 12731\n",
      "Usuarios eliminados: 3896\n",
      "Bots: 1152\n",
      "Porcentaje de usuarios activos: 76.57%\n",
      "Porcentaje de usuarios eliminados: 23.43%\n",
      "Porcentaje de Bots: 9.05%\n"
     ]
    },
    {
     "data": {
      "image/png": "[encoded data removed]",
      "text/plain": [
       "<Figure size 432x288 with 1 Axes>"
      ]
     },
     "metadata": {
      "needs_background": "light"
     },
     "output_type": "display_data"
    }
   ],
   "source": [
    "hashtag = \"#BoricPresidente\"\n",
    "hashtag_stats(hashtag)"
   ]
  },
  {
   "cell_type": "code",
   "execution_count": 170,
   "metadata": {},
   "outputs": [
    {
     "name": "stdout",
     "output_type": "stream",
     "text": [
      "Hashtag: #MujeresPorKast\n",
      "Tweets: 21457\n",
      "Número de usuarios: 6528\n",
      "Usuarios activos: 4488\n",
      "Usuarios eliminados: 2040\n",
      "Bots: 1494\n",
      "Porcentaje de usuarios activos: 68.75%\n",
      "Porcentaje de usuarios eliminados: 31.25%\n",
      "Porcentaje de Bots: 33.29%\n"
     ]
    },
    {
     "data": {
      "image/png": "[encoded data removed]",
      "text/plain": [
       "<Figure size 432x288 with 1 Axes>"
      ]
     },
     "metadata": {
      "needs_background": "light"
     },
     "output_type": "display_data"
    }
   ],
   "source": [
    "hashtag = \"#MujeresPorKast\"\n",
    "hashtag_stats(hashtag)"
   ]
  },
  {
   "cell_type": "code",
   "execution_count": 171,
   "metadata": {},
   "outputs": [
    {
     "name": "stdout",
     "output_type": "stream",
     "text": [
      "Hashtag: #TodoChileVotaKast\n",
      "Tweets: 18632\n",
      "Número de usuarios: 6557\n",
      "Usuarios activos: 4497\n",
      "Usuarios eliminados: 2060\n",
      "Bots: 1549\n",
      "Porcentaje de usuarios activos: 68.58%\n",
      "Porcentaje de usuarios eliminados: 31.42%\n",
      "Porcentaje de Bots: 34.45%\n"
     ]
    },
    {
     "data": {
      "image/png": "[encoded data removed]",
      "text/plain": [
       "<Figure size 432x288 with 1 Axes>"
      ]
     },
     "metadata": {
      "needs_background": "light"
     },
     "output_type": "display_data"
    }
   ],
   "source": [
    "hashtag = \"#TodoChileVotaKast\"\n",
    "hashtag_stats(hashtag)"
   ]
  },
  {
   "cell_type": "code",
   "execution_count": 172,
   "metadata": {},
   "outputs": [
    {
     "name": "stdout",
     "output_type": "stream",
     "text": [
      "Hashtag: #KastPresidente2022\n",
      "Tweets: 17691\n",
      "Número de usuarios: 6824\n",
      "Usuarios activos: 4722\n",
      "Usuarios eliminados: 2102\n",
      "Bots: 1569\n",
      "Porcentaje de usuarios activos: 69.20%\n",
      "Porcentaje de usuarios eliminados: 30.80%\n",
      "Porcentaje de Bots: 33.23%\n"
     ]
    },
    {
     "data": {
      "image/png": "[encoded data removed]",
      "text/plain": [
       "<Figure size 432x288 with 1 Axes>"
      ]
     },
     "metadata": {
      "needs_background": "light"
     },
     "output_type": "display_data"
    }
   ],
   "source": [
    "hashtag = \"#KastPresidente2022\"\n",
    "hashtag_stats(hashtag)"
   ]
  },
  {
   "cell_type": "code",
   "execution_count": 173,
   "metadata": {},
   "outputs": [
    {
     "name": "stdout",
     "output_type": "stream",
     "text": [
      "Hashtag: #TodosKast\n",
      "Tweets: 12353\n",
      "Número de usuarios: 5583\n",
      "Usuarios activos: 3823\n",
      "Usuarios eliminados: 1760\n",
      "Bots: 1393\n",
      "Porcentaje de usuarios activos: 68.48%\n",
      "Porcentaje de usuarios eliminados: 31.52%\n",
      "Porcentaje de Bots: 36.44%\n"
     ]
    },
    {
     "data": {
      "image/png": "[encoded data removed]",
      "text/plain": [
       "<Figure size 432x288 with 1 Axes>"
      ]
     },
     "metadata": {
      "needs_background": "light"
     },
     "output_type": "display_data"
    }
   ],
   "source": [
    "hashtag = \"#TodosKast\"\n",
    "hashtag_stats(hashtag)"
   ]
  },
  {
   "cell_type": "code",
   "execution_count": 174,
   "metadata": {},
   "outputs": [
    {
     "name": "stdout",
     "output_type": "stream",
     "text": [
      "Hashtag: #BoricPresidente2022\n",
      "Tweets: 7605\n",
      "Número de usuarios: 3996\n",
      "Usuarios activos: 3016\n",
      "Usuarios eliminados: 980\n",
      "Bots: 192\n",
      "Porcentaje de usuarios activos: 75.48%\n",
      "Porcentaje de usuarios eliminados: 24.52%\n",
      "Porcentaje de Bots: 6.37%\n"
     ]
    },
    {
     "data": {
      "image/png": "[encoded data removed]",
      "text/plain": [
       "<Figure size 432x288 with 1 Axes>"
      ]
     },
     "metadata": {
      "needs_background": "light"
     },
     "output_type": "display_data"
    }
   ],
   "source": [
    "hashtag = \"#BoricPresidente2022\"\n",
    "hashtag_stats(hashtag)"
   ]
  },
  {
   "cell_type": "code",
   "execution_count": 175,
   "metadata": {},
   "outputs": [
    {
     "name": "stdout",
     "output_type": "stream",
     "text": [
      "Hashtag: #BoricNoSeAtreveDebatir\n",
      "Tweets: 7048\n",
      "Número de usuarios: 3420\n",
      "Usuarios activos: 2342\n",
      "Usuarios eliminados: 1078\n",
      "Bots: 834\n",
      "Porcentaje de usuarios activos: 68.48%\n",
      "Porcentaje de usuarios eliminados: 31.52%\n",
      "Porcentaje de Bots: 35.61%\n"
     ]
    },
    {
     "data": {
      "image/png": "[encoded data removed]",
      "text/plain": [
       "<Figure size 432x288 with 1 Axes>"
      ]
     },
     "metadata": {
      "needs_background": "light"
     },
     "output_type": "display_data"
    }
   ],
   "source": [
    "hashtag = \"#BoricNoSeAtreveDebatir\"\n",
    "hashtag_stats(hashtag)"
   ]
  },
  {
   "cell_type": "code",
   "execution_count": 176,
   "metadata": {},
   "outputs": [
    {
     "name": "stdout",
     "output_type": "stream",
     "text": [
      "Hashtag: #BoricNoSeLaPuede\n",
      "Tweets: 5610\n",
      "Número de usuarios: 3712\n",
      "Usuarios activos: 2567\n",
      "Usuarios eliminados: 1145\n",
      "Bots: 988\n",
      "Porcentaje de usuarios activos: 69.15%\n",
      "Porcentaje de usuarios eliminados: 30.85%\n",
      "Porcentaje de Bots: 38.49%\n"
     ]
    },
    {
     "data": {
      "image/png": "[encoded data removed]",
      "text/plain": [
       "<Figure size 432x288 with 1 Axes>"
      ]
     },
     "metadata": {
      "needs_background": "light"
     },
     "output_type": "display_data"
    }
   ],
   "source": [
    "hashtag = \"#BoricNoSeLaPuede\"\n",
    "hashtag_stats(hashtag)"
   ]
  },
  {
   "cell_type": "code",
   "execution_count": 177,
   "metadata": {},
   "outputs": [
    {
     "name": "stdout",
     "output_type": "stream",
     "text": [
      "Hashtag: #BoricMiente\n",
      "Tweets: 9546\n",
      "Número de usuarios: 5073\n",
      "Usuarios activos: 3515\n",
      "Usuarios eliminados: 1558\n",
      "Bots: 1105\n",
      "Porcentaje de usuarios activos: 69.29%\n",
      "Porcentaje de usuarios eliminados: 30.71%\n",
      "Porcentaje de Bots: 31.44%\n"
     ]
    },
    {
     "data": {
      "image/png": "[encoded data removed]",
      "text/plain": [
       "<Figure size 432x288 with 1 Axes>"
      ]
     },
     "metadata": {
      "needs_background": "light"
     },
     "output_type": "display_data"
    }
   ],
   "source": [
    "hashtag = \"#BoricMiente\"\n",
    "hashtag_stats(hashtag)"
   ]
  },
  {
   "cell_type": "code",
   "execution_count": 178,
   "metadata": {},
   "outputs": [
    {
     "name": "stdout",
     "output_type": "stream",
     "text": [
      "Hashtag: #KastPresidente\n",
      "Tweets: 22670\n",
      "Número de usuarios: 8019\n",
      "Usuarios activos: 5512\n",
      "Usuarios eliminados: 2507\n",
      "Bots: 1746\n",
      "Porcentaje de usuarios activos: 68.74%\n",
      "Porcentaje de usuarios eliminados: 31.26%\n",
      "Porcentaje de Bots: 31.68%\n"
     ]
    },
    {
     "data": {
      "image/png": "[encoded data removed]",
      "text/plain": [
       "<Figure size 432x288 with 1 Axes>"
      ]
     },
     "metadata": {
      "needs_background": "light"
     },
     "output_type": "display_data"
    }
   ],
   "source": [
    "hashtag = \"#KastPresidente\"\n",
    "hashtag_stats(hashtag)"
   ]
  },
  {
   "cell_type": "code",
   "execution_count": null,
   "metadata": {},
   "outputs": [],
   "source": []
  },
  {
   "cell_type": "code",
   "execution_count": null,
   "metadata": {},
   "outputs": [],
   "source": []
  }
 ],
 "metadata": {
  "interpreter": {
   "hash": "7308045ff537f3455752229ee9846dfddac210fb72286cdd2d98404b5171f123"
  },
  "kernelspec": {
   "display_name": "Python 3.8.12 64-bit ('tweets': conda)",
   "language": "python",
   "name": "python3"
  },
  "language_info": {
   "codemirror_mode": {
    "name": "ipython",
    "version": 3
   },
   "file_extension": ".py",
   "mimetype": "text/x-python",
   "name": "python",
   "nbconvert_exporter": "python",
   "pygments_lexer": "ipython3",
   "version": "3.8.12"
  },
  "orig_nbformat": 4
 },
 "nbformat": 4,
 "nbformat_minor": 2
}
